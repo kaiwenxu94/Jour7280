{
 "cells": [
  {
   "cell_type": "code",
   "execution_count": 1,
   "metadata": {},
   "outputs": [
    {
     "name": "stdout",
     "output_type": "stream",
     "text": [
      "4164584\n"
     ]
    }
   ],
   "source": [
    "Fixed_Cost = 3000000\n",
    "Content_Cost = 7000000\n",
    "member_ff = 15\n",
    "convert_rate = 0.1\n",
    "ad_revenue_each_person = 1\n",
    "subscribers=0\n",
    "net_income=0.1*subscribers*member_ff+ad_revenue_each_person*subscribers-Fixed_Cost-Content_Cost\n",
    "if net_income==0:\n",
    "    print(subscribers)\n",
    "else:\n",
    "    while subscribers>=0:\n",
    "        subscribers=subscribers+10000\n",
    "        if subscribers<50000:\n",
    "            net_income=0.1*subscribers*member_ff+ad_revenue_each_person*subscribers-Fixed_Cost-Content_Cost\n",
    "        else:\n",
    "            net_income=0.1*subscribers*member_ff+ad_revenue_each_person*subscribers-Fixed_Cost-Content_Cost-0.1*(subscribers-50000)\n",
    "        if net_income>=0:\n",
    "            break\n",
    "\n",
    "while subscribers>=0:\n",
    "    subscribers=subscribers-1\n",
    "    if subscribers<50000:\n",
    "        net_income=0.1*subscribers*member_ff+ad_revenue_each_person*subscribers-Fixed_Cost-Content_Cost\n",
    "    else:\n",
    "        net_income=0.1*subscribers*member_ff+ad_revenue_each_person*subscribers-Fixed_Cost-Content_Cost-0.1*(subscribers-50000)\n",
    "        if net_income<0:\n",
    "            break\n",
    "\n",
    "subscribers=subscribers+1\n",
    "print(subscribers)"
   ]
  },
  {
   "cell_type": "code",
   "execution_count": null,
   "metadata": {},
   "outputs": [],
   "source": []
  }
 ],
 "metadata": {
  "kernelspec": {
   "display_name": "Python 3",
   "language": "python",
   "name": "python3"
  },
  "language_info": {
   "codemirror_mode": {
    "name": "ipython",
    "version": 3
   },
   "file_extension": ".py",
   "mimetype": "text/x-python",
   "name": "python",
   "nbconvert_exporter": "python",
   "pygments_lexer": "ipython3",
   "version": "3.7.0"
  }
 },
 "nbformat": 4,
 "nbformat_minor": 2
}
