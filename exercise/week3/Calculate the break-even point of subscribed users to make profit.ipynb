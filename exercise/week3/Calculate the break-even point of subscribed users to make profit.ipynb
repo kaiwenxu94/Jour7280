{
 "cells": [
  {
   "cell_type": "code",
   "execution_count": 1,
   "metadata": {},
   "outputs": [
    {
     "name": "stdout",
     "output_type": "stream",
     "text": [
      "40000\n"
     ]
    }
   ],
   "source": [
    "Fixed_Cost = 30000\n",
    "Content_Cost = 70000\n",
    "member_ff = 15\n",
    "convert_rate = 0.1\n",
    "ad_revenue_each_person = 1\n",
    "subscribers=0\n",
    "net_income=0.1*subscribers*member_ff+ad_revenue_each_person*subscribers-Fixed_Cost-Content_Cost\n",
    "if net_income==0:\n",
    "\tprint(subscribers)\n",
    "else:\n",
    "\twhile subscribers>=0:\n",
    "\t\tsubscribers=subscribers+1\n",
    "\t\tif subscribers<50000:\n",
    "\t\t\tnet_income=0.1*subscribers*member_ff+ad_revenue_each_person*subscribers-Fixed_Cost-Content_Cost\n",
    "\t\telse:\n",
    "\t\t\tnet_income=0.1*subscribers*member_ff+ad_revenue_each_person*subscribers-Fixed_Cost-Content_Cost-0.1*(subscribers-50000)\n",
    "\t\tif net_income==0:\n",
    "\t\t\tbreak\n",
    "print(subscribers)"
   ]
  },
  {
   "cell_type": "code",
   "execution_count": null,
   "metadata": {},
   "outputs": [],
   "source": []
  }
 ],
 "metadata": {
  "kernelspec": {
   "display_name": "Python 3",
   "language": "python",
   "name": "python3"
  },
  "language_info": {
   "codemirror_mode": {
    "name": "ipython",
    "version": 3
   },
   "file_extension": ".py",
   "mimetype": "text/x-python",
   "name": "python",
   "nbconvert_exporter": "python",
   "pygments_lexer": "ipython3",
   "version": "3.7.0"
  }
 },
 "nbformat": 4,
 "nbformat_minor": 2
}
